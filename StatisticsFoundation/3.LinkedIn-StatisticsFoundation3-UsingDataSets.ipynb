{
 "cells": [
  {
   "cell_type": "code",
   "execution_count": 1,
   "id": "a198cf91",
   "metadata": {},
   "outputs": [
    {
     "data": {
      "text/html": [
       "<style>.container { width:95% !important; }</style>"
      ],
      "text/plain": [
       "<IPython.core.display.HTML object>"
      ]
     },
     "metadata": {},
     "output_type": "display_data"
    }
   ],
   "source": [
    "import pandas as pd\n",
    "import numpy as np\n",
    "\n",
    "from IPython.core.display import display, HTML\n",
    "display(HTML(\"<style>.container { width:95% !important; }</style>\"))\n",
    "\n",
    "pd.set_option('display.max_columns', None)"
   ]
  },
  {
   "cell_type": "markdown",
   "id": "555e1fee",
   "metadata": {},
   "source": [
    "#### Sampling\n",
    "- sample is section or subset of an entire population\n",
    "- what was the size of the sample (10, or 1000), small samples have errors\n",
    "- how were they conducted, on the phone or approached in person?\n",
    "- how many declined?\n",
    "- how were the questions asked? \n",
    "\n",
    "\n",
    "#### Simple Random Sample is the gold standard when it comes to collecting data\n",
    "- each invidivual in the population has the same probability of being chosen for inclusion in the sample as any other individual. \n",
    "- it is both unbiased AND independent\n",
    "\n",
    "- Alternatives:\n",
    "    - Systematic Sample - one unit is chosen and then every k unit thereafter. Ex. Pull every 10 person that walks out the store\n",
    "\n",
    "\n",
    "#### Sample Size\n",
    "- Sample - group of units drawn from a population\n",
    "- Sample size - number of units drawn and measured for that particular sample. The larger the sample the higher the accuracy of measurement\n",
    "- Central Limit Theorem - the more samples we take, the closer the mean of the 'sample means' will get us to the population (sample 1 mean is 5, sample 2 mean is 5.5, sample 3 mean is 4.5.... mean of means is 5 >> this must be very close to the population). And when you plot these different means for each sample it will look like a Normal Distribution. \n",
    "\n",
    "\n",
    "#### Standard Error\n",
    "- is the standard deviation of the proportion distribution. The size of the standard error, depends on the sample size (larger sample size reduces standard error, leading to more accurate population estimates. \n",
    "#### Central Limit Theorem\n",
    "- as we increase the number of samples and we increase the sample size, we should get closer to the population mean\n",
    "\n",
    "\n",
    "\n",
    "\n",
    "\n"
   ]
  },
  {
   "cell_type": "code",
   "execution_count": null,
   "id": "dc1fac4d",
   "metadata": {},
   "outputs": [],
   "source": []
  },
  {
   "cell_type": "code",
   "execution_count": null,
   "id": "b90b1754",
   "metadata": {},
   "outputs": [],
   "source": []
  },
  {
   "cell_type": "code",
   "execution_count": null,
   "id": "7cd1d22f",
   "metadata": {},
   "outputs": [],
   "source": []
  },
  {
   "cell_type": "code",
   "execution_count": null,
   "id": "08342d90",
   "metadata": {},
   "outputs": [],
   "source": []
  },
  {
   "cell_type": "code",
   "execution_count": null,
   "id": "ce11e70d",
   "metadata": {},
   "outputs": [],
   "source": []
  },
  {
   "cell_type": "code",
   "execution_count": null,
   "id": "d3196220",
   "metadata": {},
   "outputs": [],
   "source": []
  },
  {
   "cell_type": "code",
   "execution_count": null,
   "id": "89b1534b",
   "metadata": {},
   "outputs": [],
   "source": []
  },
  {
   "cell_type": "code",
   "execution_count": null,
   "id": "345b3ab0",
   "metadata": {},
   "outputs": [],
   "source": []
  },
  {
   "cell_type": "code",
   "execution_count": null,
   "id": "3271dc5b",
   "metadata": {
    "scrolled": true
   },
   "outputs": [],
   "source": [
    "#Calculating percentile\n",
    "data = {'Exam Scores': [75, 90, 95, 100, 75, 90, 95, 95, 75, 85, 95, 95, 70, 85, 90, 95, 55, 80, 90, 95]}\n",
    "\n",
    "df = pd.DataFrame(data)\n",
    "#df"
   ]
  },
  {
   "cell_type": "code",
   "execution_count": null,
   "id": "f08cbd8f",
   "metadata": {},
   "outputs": [],
   "source": []
  },
  {
   "cell_type": "code",
   "execution_count": null,
   "id": "4c7a8f26",
   "metadata": {},
   "outputs": [],
   "source": []
  }
 ],
 "metadata": {
  "kernelspec": {
   "display_name": "Python 3 (ipykernel)",
   "language": "python",
   "name": "python3"
  },
  "language_info": {
   "codemirror_mode": {
    "name": "ipython",
    "version": 3
   },
   "file_extension": ".py",
   "mimetype": "text/x-python",
   "name": "python",
   "nbconvert_exporter": "python",
   "pygments_lexer": "ipython3",
   "version": "3.9.18"
  }
 },
 "nbformat": 4,
 "nbformat_minor": 5
}
