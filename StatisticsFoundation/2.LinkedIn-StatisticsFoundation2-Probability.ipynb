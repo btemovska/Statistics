{
 "cells": [
  {
   "cell_type": "code",
   "execution_count": 3,
   "id": "a198cf91",
   "metadata": {},
   "outputs": [
    {
     "data": {
      "text/html": [
       "<style>.container { width:95% !important; }</style>"
      ],
      "text/plain": [
       "<IPython.core.display.HTML object>"
      ]
     },
     "metadata": {},
     "output_type": "display_data"
    }
   ],
   "source": [
    "import pandas as pd\n",
    "import numpy as np\n",
    "\n",
    "from IPython.core.display import display, HTML\n",
    "display(HTML(\"<style>.container { width:95% !important; }</style>\"))\n",
    "\n",
    "pd.set_option('display.max_columns', None)"
   ]
  },
  {
   "cell_type": "markdown",
   "id": "5e06a4be",
   "metadata": {},
   "source": [
    "#### Intro to Probability\n",
    "- Probability = Desired Outcome / Possible Outcome\n",
    "- ##### Classical/Theorethical Probability \n",
    "    - when you know all outcomes, you know all possibility: two sides of coin, there are 52 cards in a deck, and every outcome is equally likely\n",
    "- ##### Empirical Probability \n",
    "    - based on experimental or historical data (actual/observed/past events): a customer does online orders 12 times, & of those 9 arrived on time, what is the probability that the next order will arrive on time (9/12=75%)\n",
    "- ##### Subjective Probability \n",
    "    - based on personal belief, not statistics"
   ]
  },
  {
   "cell_type": "markdown",
   "id": "1f5e0eed",
   "metadata": {},
   "source": [
    "- ##### Permutations\n",
    "    - interested in order of things, it matters who got the 10dollars, then 100dollars, then 1000dollars price (in this order)\n",
    "    - person1, person2, person3, person4, person5 - 5*4*3*2*1 = 120 (120 different ways these persons can finish the race)\n",
    "    - what if we have 8 person race, but only 3 are awarded, what is permutations? Well, different formula: \n",
    "        - 8!/(8-3)! = 8!/5! = 8*7*6*5*4*3*2*1 / 5*4*3*2*1 = 336 different ways for top three spots for eight runners\n",
    "- ##### Combinations\n",
    "    - when order doesn't matter, ex. a student chosen at random for newsletter\n",
    "    - 12 students in class, and one team of 4 will be chosen\n",
    "        - 12!/[(12-4)!*4!] = \n",
    "        12!/[(8!)*4!] = \n",
    "        12*11*10*9*8*7*6*5*4*3*2*1 / [(8*7*6*5*4*3*2*1) * (4*3*2*1)] = 495 possible teams of four\n",
    "        \n",
    "- no wonder why I have troubles with Probability"
   ]
  },
  {
   "cell_type": "markdown",
   "id": "fabea99e",
   "metadata": {},
   "source": [
    "- ##### Percentile\n",
    "    - someone that had annual income of 250k dollars, is in the 95th percentile (aka the top 5%)\n",
    "    - somone that had annual income of 60k dollars, is in the 50th percentile\n",
    "    - there are few ways to calculated"
   ]
  },
  {
   "cell_type": "code",
   "execution_count": 10,
   "id": "3271dc5b",
   "metadata": {
    "scrolled": true
   },
   "outputs": [],
   "source": [
    "#Calculating percentile\n",
    "data = {'Exam Scores': [75, 90, 95, 100, 75, 90, 95, 95, 75, 85, 95, 95, 70, 85, 90, 95, 55, 80, 90, 95]}\n",
    "\n",
    "df = pd.DataFrame(data)\n",
    "#df"
   ]
  },
  {
   "cell_type": "code",
   "execution_count": 9,
   "id": "3382540d",
   "metadata": {},
   "outputs": [
    {
     "name": "stdout",
     "output_type": "stream",
     "text": [
      "0.325\n",
      "0.975\n"
     ]
    }
   ],
   "source": [
    "n = len(df)\n",
    "\n",
    "# what percentile is student that scored 85% on their exam?\n",
    "below_85_count = df[df['Exam Scores'] < 85].shape[0]\n",
    "percentile = (below_85_count + 0.5) / n\n",
    "print(percentile) #always round down thus 32, and a student that scored 85% on their exam is in the 32 percentile\n",
    "\n",
    "\n",
    "#what about a student that got 100% on their exam?\n",
    "below_100_count = df[df['Exam Scores'] < 100].shape[0]\n",
    "percentile = (below_100_count + 0.5) / n\n",
    "print(percentile) # 97th percentile"
   ]
  },
  {
   "cell_type": "markdown",
   "id": "7c9ac775",
   "metadata": {},
   "source": [
    "#### Multiple Event Probabilities\n",
    "- Possibility of two events - add the probabilities and subtract the overlapping outcome\n",
    "- Conditional probability - use probability trees\n",
    "- Multiplication - one event has no ties with the outcomes of the second event (they have nothing in common)\n",
    "- Bayes theorem - \n",
    "### I need good examples, likelyhood someone has cancer or not, covid vs cold flue...."
   ]
  },
  {
   "cell_type": "code",
   "execution_count": 17,
   "id": "e2898b06",
   "metadata": {},
   "outputs": [
    {
     "data": {
      "text/html": [
       "<div>\n",
       "<style scoped>\n",
       "    .dataframe tbody tr th:only-of-type {\n",
       "        vertical-align: middle;\n",
       "    }\n",
       "\n",
       "    .dataframe tbody tr th {\n",
       "        vertical-align: top;\n",
       "    }\n",
       "\n",
       "    .dataframe thead th {\n",
       "        text-align: right;\n",
       "    }\n",
       "</style>\n",
       "<table border=\"1\" class=\"dataframe\">\n",
       "  <thead>\n",
       "    <tr style=\"text-align: right;\">\n",
       "      <th></th>\n",
       "      <th>Milionares_ed_level</th>\n",
       "      <th>Percent</th>\n",
       "      <th>Inheret</th>\n",
       "      <th>Earned</th>\n",
       "    </tr>\n",
       "  </thead>\n",
       "  <tbody>\n",
       "    <tr>\n",
       "      <th>0</th>\n",
       "      <td>HS_dropout</td>\n",
       "      <td>0.05</td>\n",
       "      <td>0.40</td>\n",
       "      <td>0.60</td>\n",
       "    </tr>\n",
       "    <tr>\n",
       "      <th>1</th>\n",
       "      <td>HS_diploma</td>\n",
       "      <td>0.15</td>\n",
       "      <td>0.20</td>\n",
       "      <td>0.80</td>\n",
       "    </tr>\n",
       "    <tr>\n",
       "      <th>2</th>\n",
       "      <td>Undergrad</td>\n",
       "      <td>0.60</td>\n",
       "      <td>0.20</td>\n",
       "      <td>0.80</td>\n",
       "    </tr>\n",
       "    <tr>\n",
       "      <th>3</th>\n",
       "      <td>Grad</td>\n",
       "      <td>0.20</td>\n",
       "      <td>0.15</td>\n",
       "      <td>0.85</td>\n",
       "    </tr>\n",
       "  </tbody>\n",
       "</table>\n",
       "</div>"
      ],
      "text/plain": [
       "  Milionares_ed_level  Percent  Inheret  Earned\n",
       "0          HS_dropout     0.05     0.40    0.60\n",
       "1          HS_diploma     0.15     0.20    0.80\n",
       "2           Undergrad     0.60     0.20    0.80\n",
       "3                Grad     0.20     0.15    0.85"
      ]
     },
     "execution_count": 17,
     "metadata": {},
     "output_type": "execute_result"
    }
   ],
   "source": [
    "data = {  'Milionares_ed_level':['HS_dropout', 'HS_diploma', 'Undergrad', 'Grad'],\n",
    "           'Percent':[0.05, 0.15, 0.60, 0.20],\n",
    "           'Inheret':[0.40, 0.20, 0.20, 0.15],\n",
    "           'Earned':[0.60, 0.80, 0.80, 0.85 ]  }\n",
    "df = pd.DataFrame(data)\n",
    "df"
   ]
  },
  {
   "cell_type": "code",
   "execution_count": 22,
   "id": "0a88a699",
   "metadata": {},
   "outputs": [
    {
     "name": "stdout",
     "output_type": "stream",
     "text": [
      "20.000000000000004\n",
      "30.0\n",
      "\n",
      "30.0\n",
      "120.0\n",
      "\n",
      "120.0\n",
      "480.0\n",
      "\n",
      "30.0\n",
      "170.0\n",
      "\n",
      "800\n",
      "3.75\n"
     ]
    }
   ],
   "source": [
    "#Bayes theorem - what is the probability that milionare did not complete HS, given he earned something? Lets say there are 1000 milionares\n",
    "print(  (0.05 * 0.40) * 1000  )\n",
    "print(  (0.05 * 0.60) * 1000  )\n",
    "print()\n",
    "print(  (0.15 * 0.20) * 1000  )\n",
    "print(  (0.15 * 0.80) * 1000  )\n",
    "print()\n",
    "print(  (0.60 * 0.20) * 1000  )\n",
    "print(  (0.60 * 0.80) * 1000  )\n",
    "print()\n",
    "print(  (0.20 * 0.15) * 1000  )\n",
    "print(  (0.20 * 0.85) * 1000  )\n",
    "print()\n",
    "\n",
    "\n",
    "print( 30 + 120 + 480 + 170  )   #800 earned their money\n",
    "# and of those 30 did not graduate high school\n",
    "\n",
    "print( (30/800) * 100 )  #3.75% were high school dropout and earned their money"
   ]
  },
  {
   "cell_type": "markdown",
   "id": "f409855b",
   "metadata": {},
   "source": [
    "#### Descrete and Continuous Probability\n",
    "- Random - \n",
    "- Descrete - they are whole numbers, limited outcomes (number of drinks, can't order half a drink), number of text received\n",
    "- Continous - they can be decimals (height of someone, weight of someone, miles, waiting in line), no limit of possible outcomes\n",
    "- Binomial - two possible outcomes (coin flips, patient testing positive or negative, voters either voted or didn't)"
   ]
  },
  {
   "cell_type": "code",
   "execution_count": 49,
   "id": "0c18d3fb",
   "metadata": {},
   "outputs": [
    {
     "data": {
      "text/html": [
       "<div>\n",
       "<style scoped>\n",
       "    .dataframe tbody tr th:only-of-type {\n",
       "        vertical-align: middle;\n",
       "    }\n",
       "\n",
       "    .dataframe tbody tr th {\n",
       "        vertical-align: top;\n",
       "    }\n",
       "\n",
       "    .dataframe thead th {\n",
       "        text-align: right;\n",
       "    }\n",
       "</style>\n",
       "<table border=\"1\" class=\"dataframe\">\n",
       "  <thead>\n",
       "    <tr style=\"text-align: right;\">\n",
       "      <th></th>\n",
       "      <th>Num_Drinks_Ordered</th>\n",
       "      <th>Num_Customers</th>\n",
       "      <th>Relative</th>\n",
       "      <th>Weight</th>\n",
       "    </tr>\n",
       "  </thead>\n",
       "  <tbody>\n",
       "    <tr>\n",
       "      <th>0</th>\n",
       "      <td>0</td>\n",
       "      <td>1</td>\n",
       "      <td>0.025</td>\n",
       "      <td>0.000</td>\n",
       "    </tr>\n",
       "    <tr>\n",
       "      <th>1</th>\n",
       "      <td>1</td>\n",
       "      <td>22</td>\n",
       "      <td>0.550</td>\n",
       "      <td>0.550</td>\n",
       "    </tr>\n",
       "    <tr>\n",
       "      <th>2</th>\n",
       "      <td>2</td>\n",
       "      <td>10</td>\n",
       "      <td>0.250</td>\n",
       "      <td>0.500</td>\n",
       "    </tr>\n",
       "    <tr>\n",
       "      <th>3</th>\n",
       "      <td>3</td>\n",
       "      <td>4</td>\n",
       "      <td>0.100</td>\n",
       "      <td>0.300</td>\n",
       "    </tr>\n",
       "    <tr>\n",
       "      <th>4</th>\n",
       "      <td>4</td>\n",
       "      <td>2</td>\n",
       "      <td>0.050</td>\n",
       "      <td>0.200</td>\n",
       "    </tr>\n",
       "    <tr>\n",
       "      <th>5</th>\n",
       "      <td>5</td>\n",
       "      <td>1</td>\n",
       "      <td>0.025</td>\n",
       "      <td>0.125</td>\n",
       "    </tr>\n",
       "  </tbody>\n",
       "</table>\n",
       "</div>"
      ],
      "text/plain": [
       "   Num_Drinks_Ordered  Num_Customers  Relative  Weight\n",
       "0                   0              1     0.025   0.000\n",
       "1                   1             22     0.550   0.550\n",
       "2                   2             10     0.250   0.500\n",
       "3                   3              4     0.100   0.300\n",
       "4                   4              2     0.050   0.200\n",
       "5                   5              1     0.025   0.125"
      ]
     },
     "execution_count": 49,
     "metadata": {},
     "output_type": "execute_result"
    }
   ],
   "source": [
    "# Descrete Mean\n",
    "data = {  'Num_Drinks_Ordered':[0, 1, 2, 3, 4, 5],\n",
    "           'Num_Customers':[1, 22, 10, 4, 2, 1] }\n",
    "df = pd.DataFrame(data)\n",
    "# 22 customers ordered 1 drink, 1 customer ordered 0 drinks (perhaps ordered pastry), 1 customer ordered 5 drinks\n",
    "\n",
    "df['Relative'] = df['Num_Customers'] / sum(df['Num_Customers'])\n",
    "df['Weight'] = df['Num_Drinks_Ordered'] * df['Relative']\n",
    "\n",
    "df\n",
    "\n"
   ]
  },
  {
   "cell_type": "code",
   "execution_count": 50,
   "id": "528b2b1d",
   "metadata": {},
   "outputs": [
    {
     "name": "stdout",
     "output_type": "stream",
     "text": [
      "1.675\n"
     ]
    }
   ],
   "source": [
    "print(sum(df['Weight']))  #Mean of this probability distribution\n",
    "# on average customer orders 1.675 drinks"
   ]
  },
  {
   "cell_type": "code",
   "execution_count": 53,
   "id": "c7507f30",
   "metadata": {},
   "outputs": [
    {
     "data": {
      "text/html": [
       "<div>\n",
       "<style scoped>\n",
       "    .dataframe tbody tr th:only-of-type {\n",
       "        vertical-align: middle;\n",
       "    }\n",
       "\n",
       "    .dataframe tbody tr th {\n",
       "        vertical-align: top;\n",
       "    }\n",
       "\n",
       "    .dataframe thead th {\n",
       "        text-align: right;\n",
       "    }\n",
       "</style>\n",
       "<table border=\"1\" class=\"dataframe\">\n",
       "  <thead>\n",
       "    <tr style=\"text-align: right;\">\n",
       "      <th></th>\n",
       "      <th>Num_Drinks_Ordered</th>\n",
       "      <th>Num_Customers</th>\n",
       "      <th>Relative</th>\n",
       "      <th>Weight</th>\n",
       "      <th>Mean</th>\n",
       "      <th>Drinks-Mean</th>\n",
       "      <th>Drinks-Mean-sq</th>\n",
       "      <th>Relative_Drinks_mean_sq</th>\n",
       "    </tr>\n",
       "  </thead>\n",
       "  <tbody>\n",
       "    <tr>\n",
       "      <th>0</th>\n",
       "      <td>0</td>\n",
       "      <td>1</td>\n",
       "      <td>0.025</td>\n",
       "      <td>0.000</td>\n",
       "      <td>1.675</td>\n",
       "      <td>-1.68</td>\n",
       "      <td>2.82</td>\n",
       "      <td>0.07</td>\n",
       "    </tr>\n",
       "    <tr>\n",
       "      <th>1</th>\n",
       "      <td>1</td>\n",
       "      <td>22</td>\n",
       "      <td>0.550</td>\n",
       "      <td>0.550</td>\n",
       "      <td>1.675</td>\n",
       "      <td>-0.68</td>\n",
       "      <td>0.46</td>\n",
       "      <td>0.25</td>\n",
       "    </tr>\n",
       "    <tr>\n",
       "      <th>2</th>\n",
       "      <td>2</td>\n",
       "      <td>10</td>\n",
       "      <td>0.250</td>\n",
       "      <td>0.500</td>\n",
       "      <td>1.675</td>\n",
       "      <td>0.32</td>\n",
       "      <td>0.10</td>\n",
       "      <td>0.02</td>\n",
       "    </tr>\n",
       "    <tr>\n",
       "      <th>3</th>\n",
       "      <td>3</td>\n",
       "      <td>4</td>\n",
       "      <td>0.100</td>\n",
       "      <td>0.300</td>\n",
       "      <td>1.675</td>\n",
       "      <td>1.32</td>\n",
       "      <td>1.74</td>\n",
       "      <td>0.17</td>\n",
       "    </tr>\n",
       "    <tr>\n",
       "      <th>4</th>\n",
       "      <td>4</td>\n",
       "      <td>2</td>\n",
       "      <td>0.050</td>\n",
       "      <td>0.200</td>\n",
       "      <td>1.675</td>\n",
       "      <td>2.33</td>\n",
       "      <td>5.43</td>\n",
       "      <td>0.27</td>\n",
       "    </tr>\n",
       "    <tr>\n",
       "      <th>5</th>\n",
       "      <td>5</td>\n",
       "      <td>1</td>\n",
       "      <td>0.025</td>\n",
       "      <td>0.125</td>\n",
       "      <td>1.675</td>\n",
       "      <td>3.32</td>\n",
       "      <td>11.02</td>\n",
       "      <td>0.28</td>\n",
       "    </tr>\n",
       "  </tbody>\n",
       "</table>\n",
       "</div>"
      ],
      "text/plain": [
       "   Num_Drinks_Ordered  Num_Customers  Relative  Weight   Mean  Drinks-Mean  \\\n",
       "0                   0              1     0.025   0.000  1.675        -1.68   \n",
       "1                   1             22     0.550   0.550  1.675        -0.68   \n",
       "2                   2             10     0.250   0.500  1.675         0.32   \n",
       "3                   3              4     0.100   0.300  1.675         1.32   \n",
       "4                   4              2     0.050   0.200  1.675         2.33   \n",
       "5                   5              1     0.025   0.125  1.675         3.32   \n",
       "\n",
       "   Drinks-Mean-sq  Relative_Drinks_mean_sq  \n",
       "0            2.82                     0.07  \n",
       "1            0.46                     0.25  \n",
       "2            0.10                     0.02  \n",
       "3            1.74                     0.17  \n",
       "4            5.43                     0.27  \n",
       "5           11.02                     0.28  "
      ]
     },
     "execution_count": 53,
     "metadata": {},
     "output_type": "execute_result"
    }
   ],
   "source": [
    "df['Mean'] = sum(df['Weight'])\n",
    "df['Drinks-Mean'] = round(df['Num_Drinks_Ordered'] - df['Mean'], 2)\n",
    "df['Drinks-Mean-sq'] = round(df['Drinks-Mean'] ** 2, 2)\n",
    "df['Relative_Drinks_mean_sq'] = round(df['Relative'] * df['Drinks-Mean-sq'], 2)\n",
    "df"
   ]
  },
  {
   "cell_type": "code",
   "execution_count": 54,
   "id": "9c8f663e",
   "metadata": {},
   "outputs": [
    {
     "name": "stdout",
     "output_type": "stream",
     "text": [
      "1.06\n",
      "1.0295630140987\n"
     ]
    }
   ],
   "source": [
    "print(sum(df['Relative_Drinks_mean_sq'])) # this is the variance\n",
    "print(np.sqrt(sum(df['Relative_Drinks_mean_sq'])))  #standard deviation is 1.03 drinks"
   ]
  },
  {
   "cell_type": "code",
   "execution_count": null,
   "id": "2ab8825b",
   "metadata": {},
   "outputs": [],
   "source": []
  },
  {
   "cell_type": "code",
   "execution_count": 55,
   "id": "b7b19823",
   "metadata": {},
   "outputs": [],
   "source": [
    "# the Probability is really different animal for me, truly can't grasp it"
   ]
  },
  {
   "cell_type": "code",
   "execution_count": null,
   "id": "72748070",
   "metadata": {},
   "outputs": [],
   "source": []
  },
  {
   "cell_type": "code",
   "execution_count": null,
   "id": "f08cbd8f",
   "metadata": {},
   "outputs": [],
   "source": []
  },
  {
   "cell_type": "code",
   "execution_count": null,
   "id": "4c7a8f26",
   "metadata": {},
   "outputs": [],
   "source": []
  }
 ],
 "metadata": {
  "kernelspec": {
   "display_name": "Python 3 (ipykernel)",
   "language": "python",
   "name": "python3"
  },
  "language_info": {
   "codemirror_mode": {
    "name": "ipython",
    "version": 3
   },
   "file_extension": ".py",
   "mimetype": "text/x-python",
   "name": "python",
   "nbconvert_exporter": "python",
   "pygments_lexer": "ipython3",
   "version": "3.9.18"
  }
 },
 "nbformat": 4,
 "nbformat_minor": 5
}
