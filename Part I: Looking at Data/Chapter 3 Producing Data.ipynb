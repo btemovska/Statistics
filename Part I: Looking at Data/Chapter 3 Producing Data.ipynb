{
 "cells": [
  {
   "cell_type": "code",
   "execution_count": 1,
   "id": "2c0199bc",
   "metadata": {},
   "outputs": [],
   "source": [
    "import pandas as pd\n",
    "import numpy as np\n",
    "import matplotlib.pyplot as plt\n",
    "import seaborn as sns\n",
    "from scipy.stats import zscore"
   ]
  },
  {
   "cell_type": "markdown",
   "id": "0e6ceb2b",
   "metadata": {},
   "source": [
    "- Anecdotal evidence is based on haphazardly selected individual cases, which often come to our attention becuase they are striking in some way. \n",
    "- Observational Study we observe individual and measure variables in interest but not attempt to influence the responses. \n",
    "- Experiment we deliberately impose some treatment on individuals and we observe their responses. \n",
    "- Intervention is where we actually impose a change\n",
    "- Statistical Inference - answers specific questions with a known degree of confidence "
   ]
  },
  {
   "cell_type": "markdown",
   "id": "8ebe9b97",
   "metadata": {},
   "source": [
    "#### 3.1 Design of Experiments\n",
    "- an observed effect so large that it would rarely occur by chance is called statistically significant"
   ]
  },
  {
   "cell_type": "markdown",
   "id": "8a9bf08d",
   "metadata": {},
   "source": [
    "#### 3.2 Sampling Design\n",
    "- Population - entire group of individuals that we want information about\n",
    "- Sample - part of the population we actually study in order to gather information\n",
    "- SRS Simple Random Sample - of a size which consists of individuals from the populating chosen in such a way that every set of individuals has an equal chance to be the sample actually selected"
   ]
  },
  {
   "cell_type": "markdown",
   "id": "d31d10d2",
   "metadata": {},
   "source": [
    "#### 3.3 Towards Statistical Inference\n",
    "- Parameter is a number that describes the population, it is fixed number\n",
    "- Statistic is a number that describes the sample. This number can change from sample to sample. "
   ]
  },
  {
   "cell_type": "markdown",
   "id": "bbe68a9b",
   "metadata": {},
   "source": [
    "#### 3.4 Ethics\n",
    "- data on humans must be kept confidential"
   ]
  },
  {
   "cell_type": "code",
   "execution_count": null,
   "id": "49a4a769",
   "metadata": {},
   "outputs": [],
   "source": []
  },
  {
   "cell_type": "code",
   "execution_count": null,
   "id": "342b4e15",
   "metadata": {},
   "outputs": [],
   "source": []
  },
  {
   "cell_type": "code",
   "execution_count": null,
   "id": "034474a3",
   "metadata": {},
   "outputs": [],
   "source": []
  },
  {
   "cell_type": "code",
   "execution_count": null,
   "id": "3f97319c",
   "metadata": {},
   "outputs": [],
   "source": []
  },
  {
   "cell_type": "code",
   "execution_count": null,
   "id": "784e6895",
   "metadata": {},
   "outputs": [],
   "source": []
  },
  {
   "cell_type": "code",
   "execution_count": null,
   "id": "09fcf684",
   "metadata": {},
   "outputs": [],
   "source": []
  },
  {
   "cell_type": "code",
   "execution_count": null,
   "id": "914a17d2",
   "metadata": {},
   "outputs": [],
   "source": []
  },
  {
   "cell_type": "code",
   "execution_count": null,
   "id": "ff71f8bd",
   "metadata": {},
   "outputs": [],
   "source": []
  }
 ],
 "metadata": {
  "kernelspec": {
   "display_name": "Python 3 (ipykernel)",
   "language": "python",
   "name": "python3"
  },
  "language_info": {
   "codemirror_mode": {
    "name": "ipython",
    "version": 3
   },
   "file_extension": ".py",
   "mimetype": "text/x-python",
   "name": "python",
   "nbconvert_exporter": "python",
   "pygments_lexer": "ipython3",
   "version": "3.9.18"
  }
 },
 "nbformat": 4,
 "nbformat_minor": 5
}
