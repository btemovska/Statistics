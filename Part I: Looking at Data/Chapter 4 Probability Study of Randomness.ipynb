{
 "cells": [
  {
   "cell_type": "code",
   "execution_count": null,
   "id": "2c0199bc",
   "metadata": {},
   "outputs": [],
   "source": [
    "import pandas as pd\n",
    "import numpy as np\n",
    "import matplotlib.pyplot as plt\n",
    "import seaborn as sns\n",
    "from scipy.stats import zscore"
   ]
  },
  {
   "cell_type": "markdown",
   "id": "a42db57d",
   "metadata": {},
   "source": [
    "##### 4.1 Randomness\n",
    "- Probability describes only what happens in the long run. \n",
    "- Probability of an event is the proportion of times the event occurs in many repeated trials of a random phenomenon. "
   ]
  },
  {
   "cell_type": "markdown",
   "id": "559ed125",
   "metadata": {},
   "source": [
    "##### 4.2 Probability Models\n",
    "1. Any Probability is a number between 0 and 1\n",
    "2. The sum of all probabilities for all possible outcomes must be exactly 1\n",
    "3. The probability that one event occurs or the other occurs, is the sum of their individual Probabilities \n",
    "    P(A or B) = P(A) + P(B)\n",
    "4. Probability that an event does not occur is 1 minus the probability that the event does occur (compliment)\n",
    "    P(not A) = 1- P(A)\n",
    "5. Probability that both events occur (opposite of 3), are independent, knowing that one occurs does not change probability of the other occuring. \n",
    "    P(A & B) = P(A) * P(B)"
   ]
  },
  {
   "cell_type": "markdown",
   "id": "e67d7d05",
   "metadata": {},
   "source": [
    "##### 4.3 Random Variables \n"
   ]
  },
  {
   "cell_type": "code",
   "execution_count": null,
   "id": "342b4e15",
   "metadata": {},
   "outputs": [],
   "source": []
  },
  {
   "cell_type": "code",
   "execution_count": null,
   "id": "034474a3",
   "metadata": {},
   "outputs": [],
   "source": []
  },
  {
   "cell_type": "code",
   "execution_count": null,
   "id": "3f97319c",
   "metadata": {},
   "outputs": [],
   "source": []
  },
  {
   "cell_type": "code",
   "execution_count": null,
   "id": "784e6895",
   "metadata": {},
   "outputs": [],
   "source": []
  },
  {
   "cell_type": "code",
   "execution_count": null,
   "id": "09fcf684",
   "metadata": {},
   "outputs": [],
   "source": []
  },
  {
   "cell_type": "code",
   "execution_count": null,
   "id": "914a17d2",
   "metadata": {},
   "outputs": [],
   "source": []
  },
  {
   "cell_type": "code",
   "execution_count": null,
   "id": "ff71f8bd",
   "metadata": {},
   "outputs": [],
   "source": []
  }
 ],
 "metadata": {
  "kernelspec": {
   "display_name": "Python 3 (ipykernel)",
   "language": "python",
   "name": "python3"
  },
  "language_info": {
   "codemirror_mode": {
    "name": "ipython",
    "version": 3
   },
   "file_extension": ".py",
   "mimetype": "text/x-python",
   "name": "python",
   "nbconvert_exporter": "python",
   "pygments_lexer": "ipython3",
   "version": "3.9.18"
  }
 },
 "nbformat": 4,
 "nbformat_minor": 5
}
