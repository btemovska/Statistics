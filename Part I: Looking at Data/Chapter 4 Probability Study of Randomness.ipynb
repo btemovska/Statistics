{
 "cells": [
  {
   "cell_type": "code",
   "execution_count": 2,
   "id": "2c0199bc",
   "metadata": {},
   "outputs": [],
   "source": [
    "import pandas as pd\n",
    "import numpy as np\n",
    "import matplotlib.pyplot as plt\n",
    "import seaborn as sns\n",
    "from scipy.stats import zscore"
   ]
  },
  {
   "cell_type": "markdown",
   "id": "ee9f509b",
   "metadata": {},
   "source": [
    "##### 4.1 Randomness\n",
    "- Probability describes only what happens in the long run. \n",
    "- Probability of an event is the proportion of times the event occurs in many repeated trials of a random phenomenon. "
   ]
  },
  {
   "cell_type": "markdown",
   "id": "1b75ba7a",
   "metadata": {},
   "source": [
    "##### 4.2 Probability Models\n",
    "1. Any Probability is a number between 0 and 1\n",
    "2. The sum of all probabilities for all possible outcomes must be exactly 1\n",
    "3. The probability that one event occurs or the other occurs, is the sum of their individual Probabilities \n",
    "    P(A or B) = P(A) + P(B)\n",
    "4. Probability that an event does not occur is 1 minus the probability that the event does occur (compliment)\n",
    "    P(not A) = 1- P(A)\n",
    "5. Probability that both events occur (opposite of 3), are independent, knowing that one occurs does not change probability of the other occuring. \n",
    "    P(A & B) = P(A) * P(B)"
   ]
  },
  {
   "cell_type": "markdown",
   "id": "12ff38bf",
   "metadata": {},
   "source": [
    "##### 4.3 Random Variables \n",
    "\n",
    "- to choose at random means to give each variable the same chance to be chosen\n",
    "- a random variable is variable taking numerical values determined by the outcome of random phenomenon"
   ]
  },
  {
   "cell_type": "code",
   "execution_count": 4,
   "id": "342b4e15",
   "metadata": {},
   "outputs": [
    {
     "data": {
      "text/html": [
       "<div>\n",
       "<style scoped>\n",
       "    .dataframe tbody tr th:only-of-type {\n",
       "        vertical-align: middle;\n",
       "    }\n",
       "\n",
       "    .dataframe tbody tr th {\n",
       "        vertical-align: top;\n",
       "    }\n",
       "\n",
       "    .dataframe thead th {\n",
       "        text-align: right;\n",
       "    }\n",
       "</style>\n",
       "<table border=\"1\" class=\"dataframe\">\n",
       "  <thead>\n",
       "    <tr style=\"text-align: right;\">\n",
       "      <th></th>\n",
       "      <th>Grades</th>\n",
       "      <th>Percent</th>\n",
       "    </tr>\n",
       "  </thead>\n",
       "  <tbody>\n",
       "    <tr>\n",
       "      <th>0</th>\n",
       "      <td>F</td>\n",
       "      <td>0.05</td>\n",
       "    </tr>\n",
       "    <tr>\n",
       "      <th>1</th>\n",
       "      <td>D</td>\n",
       "      <td>0.04</td>\n",
       "    </tr>\n",
       "    <tr>\n",
       "      <th>2</th>\n",
       "      <td>C</td>\n",
       "      <td>0.20</td>\n",
       "    </tr>\n",
       "    <tr>\n",
       "      <th>3</th>\n",
       "      <td>B</td>\n",
       "      <td>0.40</td>\n",
       "    </tr>\n",
       "    <tr>\n",
       "      <th>4</th>\n",
       "      <td>A</td>\n",
       "      <td>0.31</td>\n",
       "    </tr>\n",
       "  </tbody>\n",
       "</table>\n",
       "</div>"
      ],
      "text/plain": [
       "  Grades  Percent\n",
       "0      F     0.05\n",
       "1      D     0.04\n",
       "2      C     0.20\n",
       "3      B     0.40\n",
       "4      A     0.31"
      ]
     },
     "execution_count": 4,
     "metadata": {},
     "output_type": "execute_result"
    }
   ],
   "source": [
    "data = {\n",
    "    'Grades': ['F', 'D', 'C', 'B', 'A'],\n",
    "    'Percent': [0.05, 0.04, 0.20, 0.40, 0.31]\n",
    "}\n",
    "df = pd.DataFrame(data)\n",
    "df\n",
    "\n",
    "# 31% of the students received A, 40% of the students received B grade, etc...\n",
    "# and so here is the distribution:"
   ]
  },
  {
   "cell_type": "code",
   "execution_count": 5,
   "id": "034474a3",
   "metadata": {},
   "outputs": [
    {
     "data": {
      "text/plain": [
       "0.71"
      ]
     },
     "execution_count": 5,
     "metadata": {},
     "output_type": "execute_result"
    }
   ],
   "source": [
    "# The probability that a student got B or better is the sum of probabilities of A and B\n",
    "0.40 + 0.31"
   ]
  },
  {
   "cell_type": "markdown",
   "id": "c95f9e74",
   "metadata": {},
   "source": [
    "##### 4.4 Means & Variances of Random Variables"
   ]
  },
  {
   "cell_type": "markdown",
   "id": "5d0587ac",
   "metadata": {},
   "source": [
    "##### 4.5 General Probabilities Rules\n",
    "\n",
    "1. Addition Rule (for mutually exclusive events): This rule applies when you're dealing with two mutually exclusive events, meaning they cannot happen at the same time.\n",
    "          𝑃(𝐴∪𝐵)=𝑃(𝐴)+𝑃(𝐵)\n",
    "2. Addition Rule (for non-mutually exclusive events): When events are not mutually exclusive (they can occur together), you need to subtract the probability of both events happening together:\n",
    "          𝑃(𝐴∪𝐵)=𝑃(𝐴)+𝑃(𝐵)−𝑃(𝐴∩𝐵)\n",
    "3. Multiplication Rule (for independent events):If two events A and B are independent, the probability of both events happening is the product of their individual probabilities:\n",
    "          𝑃(𝐴∩𝐵)=𝑃(𝐴)×𝑃(𝐵)\n",
    "4. Multiplication Rule (for dependent events):If two events are dependent, the probability of both occurring is the probability of A happening multiplied by the probability of B happening given that 𝐴 has already occurred:\n",
    "          𝑃(𝐴∩𝐵)=𝑃(𝐴)×𝑃(𝐵∣𝐴)\n",
    "5. Complement Rule:The complement rule states that the probability of an event not occurring is 1 minus the probability of the event occurring:\n",
    "          𝑃(not 𝐴)=1−𝑃(𝐴)"
   ]
  },
  {
   "cell_type": "code",
   "execution_count": null,
   "id": "3f97319c",
   "metadata": {},
   "outputs": [],
   "source": []
  },
  {
   "cell_type": "code",
   "execution_count": null,
   "id": "784e6895",
   "metadata": {},
   "outputs": [],
   "source": []
  },
  {
   "cell_type": "code",
   "execution_count": null,
   "id": "09fcf684",
   "metadata": {},
   "outputs": [],
   "source": []
  },
  {
   "cell_type": "code",
   "execution_count": null,
   "id": "914a17d2",
   "metadata": {},
   "outputs": [],
   "source": []
  },
  {
   "cell_type": "code",
   "execution_count": null,
   "id": "ff71f8bd",
   "metadata": {},
   "outputs": [],
   "source": []
  }
 ],
 "metadata": {
  "kernelspec": {
   "display_name": "Python 3 (ipykernel)",
   "language": "python",
   "name": "python3"
  },
  "language_info": {
   "codemirror_mode": {
    "name": "ipython",
    "version": 3
   },
   "file_extension": ".py",
   "mimetype": "text/x-python",
   "name": "python",
   "nbconvert_exporter": "python",
   "pygments_lexer": "ipython3",
   "version": "3.9.18"
  }
 },
 "nbformat": 4,
 "nbformat_minor": 5
}
