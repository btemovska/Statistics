{
 "cells": [
  {
   "cell_type": "code",
   "execution_count": 1,
   "id": "2c0199bc",
   "metadata": {},
   "outputs": [],
   "source": [
    "import pandas as pd\n",
    "import numpy as np\n",
    "import matplotlib.pyplot as plt\n",
    "import seaborn as sns\n",
    "from scipy.stats import zscore"
   ]
  },
  {
   "cell_type": "markdown",
   "id": "0e6ceb2b",
   "metadata": {},
   "source": [
    "- Explanatory variable explains or causes change in response variable >> independent variable >> x axis\n",
    "- Response variable measures and outcome of a study. >> depended variable >> y axis"
   ]
  },
  {
   "cell_type": "markdown",
   "id": "8ebe9b97",
   "metadata": {},
   "source": [
    "#### 2.1 Scatterplots\n",
    "most common way to display relationship between two quantitative variables"
   ]
  },
  {
   "cell_type": "code",
   "execution_count": 3,
   "id": "f33a77d9",
   "metadata": {},
   "outputs": [
    {
     "data": {
      "text/html": [
       "<div>\n",
       "<style scoped>\n",
       "    .dataframe tbody tr th:only-of-type {\n",
       "        vertical-align: middle;\n",
       "    }\n",
       "\n",
       "    .dataframe tbody tr th {\n",
       "        vertical-align: top;\n",
       "    }\n",
       "\n",
       "    .dataframe thead th {\n",
       "        text-align: right;\n",
       "    }\n",
       "</style>\n",
       "<table border=\"1\" class=\"dataframe\">\n",
       "  <thead>\n",
       "    <tr style=\"text-align: right;\">\n",
       "      <th></th>\n",
       "      <th>Name</th>\n",
       "      <th>Bots</th>\n",
       "      <th>Spams</th>\n",
       "    </tr>\n",
       "  </thead>\n",
       "  <tbody>\n",
       "    <tr>\n",
       "      <th>0</th>\n",
       "      <td>ABC</td>\n",
       "      <td>315</td>\n",
       "      <td>60.00</td>\n",
       "    </tr>\n",
       "    <tr>\n",
       "      <th>1</th>\n",
       "      <td>CGF</td>\n",
       "      <td>185</td>\n",
       "      <td>9.00</td>\n",
       "    </tr>\n",
       "    <tr>\n",
       "      <th>2</th>\n",
       "      <td>JHG</td>\n",
       "      <td>150</td>\n",
       "      <td>30.00</td>\n",
       "    </tr>\n",
       "    <tr>\n",
       "      <th>3</th>\n",
       "      <td>PIH</td>\n",
       "      <td>125</td>\n",
       "      <td>16.00</td>\n",
       "    </tr>\n",
       "    <tr>\n",
       "      <th>4</th>\n",
       "      <td>DHD</td>\n",
       "      <td>85</td>\n",
       "      <td>3.00</td>\n",
       "    </tr>\n",
       "    <tr>\n",
       "      <th>5</th>\n",
       "      <td>YIU</td>\n",
       "      <td>50</td>\n",
       "      <td>2.00</td>\n",
       "    </tr>\n",
       "    <tr>\n",
       "      <th>6</th>\n",
       "      <td>WEE</td>\n",
       "      <td>35</td>\n",
       "      <td>10.00</td>\n",
       "    </tr>\n",
       "    <tr>\n",
       "      <th>7</th>\n",
       "      <td>PQL</td>\n",
       "      <td>20</td>\n",
       "      <td>5.00</td>\n",
       "    </tr>\n",
       "    <tr>\n",
       "      <th>8</th>\n",
       "      <td>OWH</td>\n",
       "      <td>20</td>\n",
       "      <td>0.60</td>\n",
       "    </tr>\n",
       "    <tr>\n",
       "      <th>9</th>\n",
       "      <td>DHY</td>\n",
       "      <td>12</td>\n",
       "      <td>0.35</td>\n",
       "    </tr>\n",
       "  </tbody>\n",
       "</table>\n",
       "</div>"
      ],
      "text/plain": [
       "  Name  Bots  Spams\n",
       "0  ABC   315  60.00\n",
       "1  CGF   185   9.00\n",
       "2  JHG   150  30.00\n",
       "3  PIH   125  16.00\n",
       "4  DHD    85   3.00\n",
       "5  YIU    50   2.00\n",
       "6  WEE    35  10.00\n",
       "7  PQL    20   5.00\n",
       "8  OWH    20   0.60\n",
       "9  DHY    12   0.35"
      ]
     },
     "execution_count": 3,
     "metadata": {},
     "output_type": "execute_result"
    }
   ],
   "source": [
    "data = {\n",
    "    'Name': ['ABC', 'CGF', 'JHG', 'PIH', 'DHD', 'YIU', 'WEE', 'PQL', 'OWH', 'DHY'],\n",
    "    'Bots': [315, 185, 150, 125, 85, 50, 35, 20, 20, 12],\n",
    "    'Spams': [60, 9, 30, 16, 3, 2, 10, 5, 0.6, 0.35]\n",
    "}\n",
    "df = pd.DataFrame(data)\n",
    "df"
   ]
  },
  {
   "cell_type": "code",
   "execution_count": 5,
   "id": "733ef77a",
   "metadata": {},
   "outputs": [
    {
     "data": {
      "text/plain": [
       "<AxesSubplot:xlabel='Bots', ylabel='Spams'>"
      ]
     },
     "execution_count": 5,
     "metadata": {},
     "output_type": "execute_result"
    },
    {
     "data": {
      "image/png": "[encoded data removed]",
      "text/plain": [
       "<Figure size 640x480 with 1 Axes>"
      ]
     },
     "metadata": {},
     "output_type": "display_data"
    }
   ],
   "source": [
    "sns.scatterplot(x='Bots', y='Spams', hue = 'Name', data=df)"
   ]
  },
  {
   "cell_type": "markdown",
   "id": "7d415aa8",
   "metadata": {},
   "source": [
    "#### 2.2 Correlation\n",
    "- measures the direction and strength of the linear relationship between two quantitative variables. It is strongly affected by outliers. \n",
    "- values near 0 indicate weak relationship\n",
    "- values near -1 or 1 indicate strong relationship"
   ]
  },
  {
   "cell_type": "code",
   "execution_count": 7,
   "id": "46ccc0c2",
   "metadata": {},
   "outputs": [
    {
     "data": {
      "text/plain": [
       "0.883913906033057"
      ]
     },
     "execution_count": 7,
     "metadata": {},
     "output_type": "execute_result"
    }
   ],
   "source": [
    "correlation = df['Bots'].corr(df['Spams'])\n",
    "correlation"
   ]
  },
  {
   "cell_type": "code",
   "execution_count": null,
   "id": "59402b10",
   "metadata": {},
   "outputs": [],
   "source": []
  },
  {
   "cell_type": "code",
   "execution_count": null,
   "id": "508066a6",
   "metadata": {},
   "outputs": [],
   "source": []
  }
 ],
 "metadata": {
  "kernelspec": {
   "display_name": "Python 3 (ipykernel)",
   "language": "python",
   "name": "python3"
  },
  "language_info": {
   "codemirror_mode": {
    "name": "ipython",
    "version": 3
   },
   "file_extension": ".py",
   "mimetype": "text/x-python",
   "name": "python",
   "nbconvert_exporter": "python",
   "pygments_lexer": "ipython3",
   "version": "3.9.18"
  }
 },
 "nbformat": 4,
 "nbformat_minor": 5
}
